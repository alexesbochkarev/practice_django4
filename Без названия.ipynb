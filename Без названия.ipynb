{
 "cells": [
  {
   "cell_type": "code",
   "execution_count": 2,
   "id": "3ee0bba6",
   "metadata": {},
   "outputs": [],
   "source": [
    "from django.db import models\n",
    "\n",
    "from blog.models import Post\n"
   ]
  },
  {
   "cell_type": "code",
   "execution_count": 3,
   "id": "8ca3f79e",
   "metadata": {},
   "outputs": [],
   "source": [
    "\"\"\"\n",
    "\n",
    ">>> fruit = Fruit.objects.create(name='Apple')\n",
    ">>> fruit.name = 'Pear'\n",
    ">>> fruit.save()\n",
    ">>> Fruit.objects.values_list('name', flat=True)\n",
    "<QuerySet ['Apple', 'Pear']>\n",
    "\n",
    "\"\"\"\n",
    "\n",
    "post_test_title = Post.objects.create(title='ok')\n",
    "post_test_title.title = 'super'\n",
    "post_test_title.save()"
   ]
  },
  {
   "cell_type": "code",
   "execution_count": 4,
   "id": "3d815d9d",
   "metadata": {
    "scrolled": false
   },
   "outputs": [
    {
     "data": {
      "text/plain": [
       "<QuerySet ['super']>"
      ]
     },
     "execution_count": 4,
     "metadata": {},
     "output_type": "execute_result"
    }
   ],
   "source": [
    "Post.objects.values_list('title', flat=True)"
   ]
  },
  {
   "cell_type": "code",
   "execution_count": null,
   "id": "e406c823",
   "metadata": {},
   "outputs": [],
   "source": []
  }
 ],
 "metadata": {
  "kernelspec": {
   "display_name": "Django Shell-Plus",
   "language": "python",
   "name": "django_extensions"
  },
  "language_info": {
   "codemirror_mode": {
    "name": "ipython",
    "version": 3
   },
   "file_extension": ".py",
   "mimetype": "text/x-python",
   "name": "python",
   "nbconvert_exporter": "python",
   "pygments_lexer": "ipython3",
   "version": "3.10.4"
  }
 },
 "nbformat": 4,
 "nbformat_minor": 5
}
